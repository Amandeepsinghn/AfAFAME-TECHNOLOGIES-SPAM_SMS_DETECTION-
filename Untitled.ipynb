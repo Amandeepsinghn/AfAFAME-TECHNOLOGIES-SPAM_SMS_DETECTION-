{
 "cells": [
  {
   "cell_type": "code",
   "execution_count": 230,
   "id": "4b9ba400-bac3-4f84-8f09-2f3e4b721d83",
   "metadata": {
    "tags": []
   },
   "outputs": [],
   "source": [
    "import numpy as np \n",
    "import pandas as pd\n",
    "import seaborn as sns\n",
    "import matplotlib.pyplot as plt\n",
    "sns.set_style(\"darkgrid\")\n",
    "import warnings\n",
    "warnings.filterwarnings(\"ignore\")\n",
    "import spacy\n",
    "import nltk \n",
    "from nltk.stem import PorterStemmer\n",
    "import tensorflow as tf \n",
    "from tensorflow.keras.preprocessing.text import Tokenizer\n",
    "from nltk.corpus import stopwords\n",
    "import re \n",
    "from sklearn.model_selection import train_test_split\n",
    "from sklearn.naive_bayes import MultinomialNB,GaussianNB\n",
    "from sklearn.metrics import accuracy_score,classification_report,confusion_matrix\n",
    "from tensorflow.keras.utils import pad_sequences\n",
    "pd.set_option('display.max_columns',None)\n",
    "from sklearn.feature_extraction.text import TfidfVectorizer\n",
    "from sklearn.feature_extraction.text import CountVectorizer\n",
    "from imblearn.over_sampling import SMOTE\n",
    "import pickle"
   ]
  },
  {
   "cell_type": "code",
   "execution_count": 232,
   "id": "2bcf9b12-16d1-4a0c-b15a-0b5006ef74ee",
   "metadata": {
    "tags": []
   },
   "outputs": [],
   "source": [
    "df = pd.read_csv(\"spam.csv\", encoding='latin1')\n"
   ]
  },
  {
   "cell_type": "code",
   "execution_count": 234,
   "id": "7aac0cf0-ad78-4f30-a19b-77e42f02afdc",
   "metadata": {
    "tags": []
   },
   "outputs": [
    {
     "data": {
      "text/html": [
       "<div>\n",
       "<style scoped>\n",
       "    .dataframe tbody tr th:only-of-type {\n",
       "        vertical-align: middle;\n",
       "    }\n",
       "\n",
       "    .dataframe tbody tr th {\n",
       "        vertical-align: top;\n",
       "    }\n",
       "\n",
       "    .dataframe thead th {\n",
       "        text-align: right;\n",
       "    }\n",
       "</style>\n",
       "<table border=\"1\" class=\"dataframe\">\n",
       "  <thead>\n",
       "    <tr style=\"text-align: right;\">\n",
       "      <th></th>\n",
       "      <th>v1</th>\n",
       "      <th>v2</th>\n",
       "      <th>Unnamed: 2</th>\n",
       "      <th>Unnamed: 3</th>\n",
       "      <th>Unnamed: 4</th>\n",
       "    </tr>\n",
       "  </thead>\n",
       "  <tbody>\n",
       "    <tr>\n",
       "      <th>0</th>\n",
       "      <td>ham</td>\n",
       "      <td>Go until jurong point, crazy.. Available only ...</td>\n",
       "      <td>NaN</td>\n",
       "      <td>NaN</td>\n",
       "      <td>NaN</td>\n",
       "    </tr>\n",
       "    <tr>\n",
       "      <th>1</th>\n",
       "      <td>ham</td>\n",
       "      <td>Ok lar... Joking wif u oni...</td>\n",
       "      <td>NaN</td>\n",
       "      <td>NaN</td>\n",
       "      <td>NaN</td>\n",
       "    </tr>\n",
       "    <tr>\n",
       "      <th>2</th>\n",
       "      <td>spam</td>\n",
       "      <td>Free entry in 2 a wkly comp to win FA Cup fina...</td>\n",
       "      <td>NaN</td>\n",
       "      <td>NaN</td>\n",
       "      <td>NaN</td>\n",
       "    </tr>\n",
       "    <tr>\n",
       "      <th>3</th>\n",
       "      <td>ham</td>\n",
       "      <td>U dun say so early hor... U c already then say...</td>\n",
       "      <td>NaN</td>\n",
       "      <td>NaN</td>\n",
       "      <td>NaN</td>\n",
       "    </tr>\n",
       "    <tr>\n",
       "      <th>4</th>\n",
       "      <td>ham</td>\n",
       "      <td>Nah I don't think he goes to usf, he lives aro...</td>\n",
       "      <td>NaN</td>\n",
       "      <td>NaN</td>\n",
       "      <td>NaN</td>\n",
       "    </tr>\n",
       "  </tbody>\n",
       "</table>\n",
       "</div>"
      ],
      "text/plain": [
       "     v1                                                 v2 Unnamed: 2  \\\n",
       "0   ham  Go until jurong point, crazy.. Available only ...        NaN   \n",
       "1   ham                      Ok lar... Joking wif u oni...        NaN   \n",
       "2  spam  Free entry in 2 a wkly comp to win FA Cup fina...        NaN   \n",
       "3   ham  U dun say so early hor... U c already then say...        NaN   \n",
       "4   ham  Nah I don't think he goes to usf, he lives aro...        NaN   \n",
       "\n",
       "  Unnamed: 3 Unnamed: 4  \n",
       "0        NaN        NaN  \n",
       "1        NaN        NaN  \n",
       "2        NaN        NaN  \n",
       "3        NaN        NaN  \n",
       "4        NaN        NaN  "
      ]
     },
     "execution_count": 234,
     "metadata": {},
     "output_type": "execute_result"
    }
   ],
   "source": [
    "df.head()"
   ]
  },
  {
   "cell_type": "code",
   "execution_count": 236,
   "id": "605e7fea-212a-47c2-9e73-7107b0a00377",
   "metadata": {
    "tags": []
   },
   "outputs": [],
   "source": [
    "df.drop([\"Unnamed: 2\",\"Unnamed: 3\",\"Unnamed: 4\"],axis=1,inplace=True)"
   ]
  },
  {
   "cell_type": "code",
   "execution_count": 238,
   "id": "ecb199e3-7283-48ca-a3e4-cc248ff0930e",
   "metadata": {
    "tags": []
   },
   "outputs": [],
   "source": [
    "df.rename(columns={\"v1\":\"label\",\"v2\":\"Text\"},inplace=True)"
   ]
  },
  {
   "cell_type": "code",
   "execution_count": 240,
   "id": "587b6c23-bb16-4875-9515-3f904450b5ae",
   "metadata": {
    "tags": []
   },
   "outputs": [
    {
     "data": {
      "text/html": [
       "<div>\n",
       "<style scoped>\n",
       "    .dataframe tbody tr th:only-of-type {\n",
       "        vertical-align: middle;\n",
       "    }\n",
       "\n",
       "    .dataframe tbody tr th {\n",
       "        vertical-align: top;\n",
       "    }\n",
       "\n",
       "    .dataframe thead th {\n",
       "        text-align: right;\n",
       "    }\n",
       "</style>\n",
       "<table border=\"1\" class=\"dataframe\">\n",
       "  <thead>\n",
       "    <tr style=\"text-align: right;\">\n",
       "      <th></th>\n",
       "      <th>label</th>\n",
       "      <th>Text</th>\n",
       "    </tr>\n",
       "  </thead>\n",
       "  <tbody>\n",
       "    <tr>\n",
       "      <th>0</th>\n",
       "      <td>ham</td>\n",
       "      <td>Go until jurong point, crazy.. Available only ...</td>\n",
       "    </tr>\n",
       "    <tr>\n",
       "      <th>1</th>\n",
       "      <td>ham</td>\n",
       "      <td>Ok lar... Joking wif u oni...</td>\n",
       "    </tr>\n",
       "    <tr>\n",
       "      <th>2</th>\n",
       "      <td>spam</td>\n",
       "      <td>Free entry in 2 a wkly comp to win FA Cup fina...</td>\n",
       "    </tr>\n",
       "    <tr>\n",
       "      <th>3</th>\n",
       "      <td>ham</td>\n",
       "      <td>U dun say so early hor... U c already then say...</td>\n",
       "    </tr>\n",
       "    <tr>\n",
       "      <th>4</th>\n",
       "      <td>ham</td>\n",
       "      <td>Nah I don't think he goes to usf, he lives aro...</td>\n",
       "    </tr>\n",
       "  </tbody>\n",
       "</table>\n",
       "</div>"
      ],
      "text/plain": [
       "  label                                               Text\n",
       "0   ham  Go until jurong point, crazy.. Available only ...\n",
       "1   ham                      Ok lar... Joking wif u oni...\n",
       "2  spam  Free entry in 2 a wkly comp to win FA Cup fina...\n",
       "3   ham  U dun say so early hor... U c already then say...\n",
       "4   ham  Nah I don't think he goes to usf, he lives aro..."
      ]
     },
     "execution_count": 240,
     "metadata": {},
     "output_type": "execute_result"
    }
   ],
   "source": [
    "df.head()"
   ]
  },
  {
   "cell_type": "code",
   "execution_count": 242,
   "id": "fd1756f7-39e1-40ba-aab7-d5c8ab21d3c4",
   "metadata": {
    "tags": []
   },
   "outputs": [
    {
     "data": {
      "text/plain": [
       "<Axes: ylabel='count'>"
      ]
     },
     "execution_count": 242,
     "metadata": {},
     "output_type": "execute_result"
    },
    {
     "data": {
      "image/png": "[encoded data removed]",
      "text/plain": [
       "<Figure size 400x300 with 1 Axes>"
      ]
     },
     "metadata": {},
     "output_type": "display_data"
    }
   ],
   "source": [
    "colors = ['#ff9999','#66b3ff','#99ff99']\n",
    "plt.figure(figsize=(4,3))\n",
    "df.value_counts(\"label\").plot(kind=\"pie\",autopct='%1.1f%%',colors=colors)"
   ]
  },
  {
   "cell_type": "code",
   "execution_count": 244,
   "id": "302727cc-8893-466c-a5a4-1103cd935202",
   "metadata": {
    "tags": []
   },
   "outputs": [],
   "source": [
    "## There are many non-spam values in our dataset  "
   ]
  },
  {
   "cell_type": "code",
   "execution_count": 246,
   "id": "e82306ab-c492-4e7e-b7b2-acb3de6a3936",
   "metadata": {
    "tags": []
   },
   "outputs": [],
   "source": [
    "### remving stopwords and implementing stemming\n",
    "ps=PorterStemmer()\n",
    "corpus=[]\n",
    "for i in range(len(df)):\n",
    "    text=re.sub(r\"[^a-zA-Z]\",\" \",df['Text'][i])\n",
    "    text=text.lower()\n",
    "    text=text.split()\n",
    "    text=[ps.stem(word) for word in text if word not in stopwords.words(\"english\")]\n",
    "    text=\" \".join(text)\n",
    "    corpus.append(text)"
   ]
  },
  {
   "cell_type": "code",
   "execution_count": 247,
   "id": "ed6baf36-4035-4b90-af0a-3b1fe3964120",
   "metadata": {
    "tags": []
   },
   "outputs": [],
   "source": [
    "## Applying BOW\n",
    "cv=CountVectorizer(max_features=2500)\n",
    "X=cv.fit_transform(corpus).toarray()"
   ]
  },
  {
   "cell_type": "code",
   "execution_count": 248,
   "id": "c0589f7a-2f8a-43ff-a3cd-721be75ddc6a",
   "metadata": {
    "tags": []
   },
   "outputs": [],
   "source": [
    "df['text_1']=corpus"
   ]
  },
  {
   "cell_type": "code",
   "execution_count": 249,
   "id": "5a438e6e-03a8-4101-aaf8-7965404aca36",
   "metadata": {
    "tags": []
   },
   "outputs": [],
   "source": [
    "y=df['label']"
   ]
  },
  {
   "cell_type": "code",
   "execution_count": 250,
   "id": "be59e1b9-b2be-4370-aeea-47f953e3501a",
   "metadata": {
    "tags": []
   },
   "outputs": [],
   "source": [
    "smote=SMOTE()"
   ]
  },
  {
   "cell_type": "code",
   "execution_count": 251,
   "id": "1858e494-b11b-418e-ba0b-3170d7691d39",
   "metadata": {
    "tags": []
   },
   "outputs": [],
   "source": [
    "y=y.map({\"ham\":1,\"spam\":0})"
   ]
  },
  {
   "cell_type": "code",
   "execution_count": 252,
   "id": "26b9893e-e790-4f2c-937c-3e48079a7167",
   "metadata": {
    "tags": []
   },
   "outputs": [],
   "source": [
    "from sklearn.model_selection import train_test_split\n",
    "X_train, X_test, y_train, y_test = train_test_split(X, y, test_size = 0.20, random_state = 0)"
   ]
  },
  {
   "cell_type": "code",
   "execution_count": 253,
   "id": "ce10652c-3b3b-48a7-b0b6-8a8e1b8f54bc",
   "metadata": {
    "tags": []
   },
   "outputs": [],
   "source": [
    "smote = SMOTE(random_state=0)\n",
    "X_train_resampled, y_train_resampled = smote.fit_resample(X_train, y_train)"
   ]
  },
  {
   "cell_type": "code",
   "execution_count": 254,
   "id": "497073b8-f5e1-4359-bf04-7ec948dbbedc",
   "metadata": {
    "tags": []
   },
   "outputs": [],
   "source": [
    "from sklearn.preprocessing import MinMaxScaler,StandardScaler,RobustScaler,MaxAbsScaler\n",
    "scaler=MinMaxScaler()"
   ]
  },
  {
   "cell_type": "code",
   "execution_count": 255,
   "id": "16a66722-092e-4bd1-aecf-12fea3d98f01",
   "metadata": {
    "tags": []
   },
   "outputs": [],
   "source": [
    "X_train_resampled=np.stack(X_train_resampled)\n",
    "X_test=np.stack(X_test)"
   ]
  },
  {
   "cell_type": "code",
   "execution_count": 256,
   "id": "828e2748-4896-4298-9a1e-6edb8b5cc547",
   "metadata": {
    "tags": []
   },
   "outputs": [],
   "source": [
    "X_train_resampled=scaler.fit_transform(X_train_resampled)\n",
    "X_test=scaler.transform(X_test)"
   ]
  },
  {
   "cell_type": "code",
   "execution_count": 257,
   "id": "aefc8f95-2ef1-40cd-8f96-0016118d39ff",
   "metadata": {
    "tags": []
   },
   "outputs": [],
   "source": [
    "from sklearn.naive_bayes import MultinomialNB,GaussianNB\n",
    "model=[MultinomialNB(),GaussianNB()]"
   ]
  },
  {
   "cell_type": "code",
   "execution_count": 258,
   "id": "7aee29c2-c7cc-497c-b6cf-e773ec1a8fa7",
   "metadata": {
    "tags": []
   },
   "outputs": [],
   "source": [
    "def train_model(models,X_train,X_test,y_train_resampled,y_test):\n",
    "    for model in models:\n",
    "        model.fit(X_train,y_train)\n",
    "        pred=model.predict(X_test)\n",
    "        print(f\"{model}\")\n",
    "        print(accuracy_score(pred,y_test))\n",
    "        print(classification_report(pred,y_test))\n",
    "        print(confusion_matrix(pred,y_test))\n",
    "        print(\"*********\")"
   ]
  },
  {
   "cell_type": "code",
   "execution_count": 259,
   "id": "dd9fd5e0-88f2-4129-a16a-c42522d13b83",
   "metadata": {
    "tags": []
   },
   "outputs": [
    {
     "name": "stdout",
     "output_type": "stream",
     "text": [
      "MultinomialNB()\n",
      "0.9811659192825112\n",
      "              precision    recall  f1-score   support\n",
      "\n",
      "           0       0.91      0.96      0.93       157\n",
      "           1       0.99      0.98      0.99       958\n",
      "\n",
      "    accuracy                           0.98      1115\n",
      "   macro avg       0.95      0.97      0.96      1115\n",
      "weighted avg       0.98      0.98      0.98      1115\n",
      "\n",
      "[[151   6]\n",
      " [ 15 943]]\n",
      "*********\n",
      "GaussianNB()\n",
      "0.8547085201793722\n",
      "              precision    recall  f1-score   support\n",
      "\n",
      "           0       0.86      0.51      0.64       282\n",
      "           1       0.85      0.97      0.91       833\n",
      "\n",
      "    accuracy                           0.85      1115\n",
      "   macro avg       0.86      0.74      0.77      1115\n",
      "weighted avg       0.86      0.85      0.84      1115\n",
      "\n",
      "[[143 139]\n",
      " [ 23 810]]\n",
      "*********\n"
     ]
    }
   ],
   "source": [
    "train_model(model,X_train,X_test,y_train_resampled,y_test)"
   ]
  },
  {
   "cell_type": "code",
   "execution_count": 260,
   "id": "bb89b5f6-2a06-4eb7-8389-a2cbfc4b4b2f",
   "metadata": {
    "tags": []
   },
   "outputs": [],
   "source": [
    "model=MultinomialNB()\n",
    "model.fit(X_train_resampled,y_train_resampled)\n",
    "pred=model.predict(X_test)\n",
    "### Saving the Model \n",
    "filename = 'MultinomialNB.pkl'\n",
    "with open(filename, 'wb') as file:\n",
    "    pickle.dump(model, file)"
   ]
  },
  {
   "cell_type": "code",
   "execution_count": null,
   "id": "52386201-101a-4236-bf07-bce0214d5afb",
   "metadata": {
    "tags": []
   },
   "outputs": [],
   "source": []
  },
  {
   "cell_type": "code",
   "execution_count": null,
   "id": "e9f3a760-473e-4999-9f1b-cb82da504ab2",
   "metadata": {},
   "outputs": [],
   "source": []
  }
 ],
 "metadata": {
  "kernelspec": {
   "display_name": "Python 3 (ipykernel)",
   "language": "python",
   "name": "python3"
  },
  "language_info": {
   "codemirror_mode": {
    "name": "ipython",
    "version": 3
   },
   "file_extension": ".py",
   "mimetype": "text/x-python",
   "name": "python",
   "nbconvert_exporter": "python",
   "pygments_lexer": "ipython3",
   "version": "3.11.7"
  }
 },
 "nbformat": 4,
 "nbformat_minor": 5
}
